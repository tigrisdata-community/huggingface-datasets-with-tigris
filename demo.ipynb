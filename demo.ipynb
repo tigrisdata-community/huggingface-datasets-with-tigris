{
 "cells": [
  {
   "cell_type": "markdown",
   "id": "54edf22c",
   "metadata": {},
   "source": [
    "# HuggingFace Datasets and Tigris\n",
    "\n",
    "In order to get started with HuggingFace Datasets Tigris in an iPython notebook, you need the following:\n",
    "\n",
    "1. A [Tigris account](https://storage.new)\n",
    "1. A Tigris bucket in your account\n",
    "1. An [access keypair](https://storage.new/accesskey) with Editor permissions for your bucket\n",
    "1. A computer running Python 3.10 that has internet access (OS and CPU architecture does not matter)\n",
    "1. The uv python environment manager\n",
    "\n",
    "If you us [VS Code](https://code.visualstudio.com/) and have the [Development Containers](https://code.visualstudio.com/docs/devcontainers/containers) extension installed, clone this repository to your machine and run the command `Dev Containers: Reopen in Container`. This will automatically set up all of the dependencies you need to get started.\n",
    "\n",
    "Install all of the dependencies for this project with `uv`:"
   ]
  },
  {
   "cell_type": "code",
   "execution_count": 1,
   "id": "1e978aea",
   "metadata": {},
   "outputs": [
    {
     "name": "stdout",
     "output_type": "stream",
     "text": [
      "Using CPython \u001b[36m3.10.18\u001b[39m\n",
      "Creating virtual environment at: \u001b[36m.venv\u001b[39m\n",
      "Activate with: \u001b[32msource .venv/bin/activate\u001b[39m\n",
      "\u001b[2mResolved \u001b[1m75 packages\u001b[0m \u001b[2min 0.70ms\u001b[0m\u001b[0m\n",
      "\u001b[2K\u001b[2mInstalled \u001b[1m66 packages\u001b[0m \u001b[2min 2.08s\u001b[0m\u001b[0m                              \u001b[0m\n",
      " \u001b[32m+\u001b[39m \u001b[1maiobotocore\u001b[0m\u001b[2m==2.23.0\u001b[0m\n",
      " \u001b[32m+\u001b[39m \u001b[1maiohappyeyeballs\u001b[0m\u001b[2m==2.6.1\u001b[0m\n",
      " \u001b[32m+\u001b[39m \u001b[1maiohttp\u001b[0m\u001b[2m==3.12.13\u001b[0m\n",
      " \u001b[32m+\u001b[39m \u001b[1maioitertools\u001b[0m\u001b[2m==0.12.0\u001b[0m\n",
      " \u001b[32m+\u001b[39m \u001b[1maiosignal\u001b[0m\u001b[2m==1.3.2\u001b[0m\n",
      " \u001b[32m+\u001b[39m \u001b[1masttokens\u001b[0m\u001b[2m==3.0.0\u001b[0m\n",
      " \u001b[32m+\u001b[39m \u001b[1masync-timeout\u001b[0m\u001b[2m==5.0.1\u001b[0m\n",
      " \u001b[32m+\u001b[39m \u001b[1mattrs\u001b[0m\u001b[2m==25.3.0\u001b[0m\n",
      " \u001b[32m+\u001b[39m \u001b[1mbotocore\u001b[0m\u001b[2m==1.38.27\u001b[0m\n",
      " \u001b[32m+\u001b[39m \u001b[1mcertifi\u001b[0m\u001b[2m==2025.6.15\u001b[0m\n",
      " \u001b[32m+\u001b[39m \u001b[1mcharset-normalizer\u001b[0m\u001b[2m==3.4.2\u001b[0m\n",
      " \u001b[32m+\u001b[39m \u001b[1mcomm\u001b[0m\u001b[2m==0.2.2\u001b[0m\n",
      " \u001b[32m+\u001b[39m \u001b[1mdatasets\u001b[0m\u001b[2m==3.6.0\u001b[0m\n",
      " \u001b[32m+\u001b[39m \u001b[1mdebugpy\u001b[0m\u001b[2m==1.8.14\u001b[0m\n",
      " \u001b[32m+\u001b[39m \u001b[1mdecorator\u001b[0m\u001b[2m==5.2.1\u001b[0m\n",
      " \u001b[32m+\u001b[39m \u001b[1mdill\u001b[0m\u001b[2m==0.3.8\u001b[0m\n",
      " \u001b[32m+\u001b[39m \u001b[1mexceptiongroup\u001b[0m\u001b[2m==1.3.0\u001b[0m\n",
      " \u001b[32m+\u001b[39m \u001b[1mexecuting\u001b[0m\u001b[2m==2.2.0\u001b[0m\n",
      " \u001b[32m+\u001b[39m \u001b[1mfilelock\u001b[0m\u001b[2m==3.18.0\u001b[0m\n",
      " \u001b[32m+\u001b[39m \u001b[1mfrozenlist\u001b[0m\u001b[2m==1.7.0\u001b[0m\n",
      " \u001b[32m+\u001b[39m \u001b[1mfsspec\u001b[0m\u001b[2m==2025.3.0\u001b[0m\n",
      " \u001b[32m+\u001b[39m \u001b[1mhf-xet\u001b[0m\u001b[2m==1.1.5\u001b[0m\n",
      " \u001b[32m+\u001b[39m \u001b[1mhuggingface-hub\u001b[0m\u001b[2m==0.33.2\u001b[0m\n",
      " \u001b[32m+\u001b[39m \u001b[1midna\u001b[0m\u001b[2m==3.10\u001b[0m\n",
      " \u001b[32m+\u001b[39m \u001b[1mipykernel\u001b[0m\u001b[2m==6.29.5\u001b[0m\n",
      " \u001b[32m+\u001b[39m \u001b[1mipython\u001b[0m\u001b[2m==8.37.0\u001b[0m\n",
      " \u001b[32m+\u001b[39m \u001b[1mjedi\u001b[0m\u001b[2m==0.19.2\u001b[0m\n",
      " \u001b[32m+\u001b[39m \u001b[1mjmespath\u001b[0m\u001b[2m==1.0.1\u001b[0m\n",
      " \u001b[32m+\u001b[39m \u001b[1mjupyter-client\u001b[0m\u001b[2m==8.6.3\u001b[0m\n",
      " \u001b[32m+\u001b[39m \u001b[1mjupyter-core\u001b[0m\u001b[2m==5.8.1\u001b[0m\n",
      " \u001b[32m+\u001b[39m \u001b[1mmatplotlib-inline\u001b[0m\u001b[2m==0.1.7\u001b[0m\n",
      " \u001b[32m+\u001b[39m \u001b[1mmultidict\u001b[0m\u001b[2m==6.6.3\u001b[0m\n",
      " \u001b[32m+\u001b[39m \u001b[1mmultiprocess\u001b[0m\u001b[2m==0.70.16\u001b[0m\n",
      " \u001b[32m+\u001b[39m \u001b[1mnest-asyncio\u001b[0m\u001b[2m==1.6.0\u001b[0m\n",
      " \u001b[32m+\u001b[39m \u001b[1mnumpy\u001b[0m\u001b[2m==2.2.6\u001b[0m\n",
      " \u001b[32m+\u001b[39m \u001b[1mpackaging\u001b[0m\u001b[2m==25.0\u001b[0m\n",
      " \u001b[32m+\u001b[39m \u001b[1mpandas\u001b[0m\u001b[2m==2.3.0\u001b[0m\n",
      " \u001b[32m+\u001b[39m \u001b[1mparso\u001b[0m\u001b[2m==0.8.4\u001b[0m\n",
      " \u001b[32m+\u001b[39m \u001b[1mpexpect\u001b[0m\u001b[2m==4.9.0\u001b[0m\n",
      " \u001b[32m+\u001b[39m \u001b[1mplatformdirs\u001b[0m\u001b[2m==4.3.8\u001b[0m\n",
      " \u001b[32m+\u001b[39m \u001b[1mprompt-toolkit\u001b[0m\u001b[2m==3.0.51\u001b[0m\n",
      " \u001b[32m+\u001b[39m \u001b[1mpropcache\u001b[0m\u001b[2m==0.3.2\u001b[0m\n",
      " \u001b[32m+\u001b[39m \u001b[1mpsutil\u001b[0m\u001b[2m==7.0.0\u001b[0m\n",
      " \u001b[32m+\u001b[39m \u001b[1mptyprocess\u001b[0m\u001b[2m==0.7.0\u001b[0m\n",
      " \u001b[32m+\u001b[39m \u001b[1mpure-eval\u001b[0m\u001b[2m==0.2.3\u001b[0m\n",
      " \u001b[32m+\u001b[39m \u001b[1mpyarrow\u001b[0m\u001b[2m==20.0.0\u001b[0m\n",
      " \u001b[32m+\u001b[39m \u001b[1mpygments\u001b[0m\u001b[2m==2.19.2\u001b[0m\n",
      " \u001b[32m+\u001b[39m \u001b[1mpython-dateutil\u001b[0m\u001b[2m==2.9.0.post0\u001b[0m\n",
      " \u001b[32m+\u001b[39m \u001b[1mpython-dotenv\u001b[0m\u001b[2m==1.1.1\u001b[0m\n",
      " \u001b[32m+\u001b[39m \u001b[1mpytz\u001b[0m\u001b[2m==2025.2\u001b[0m\n",
      " \u001b[32m+\u001b[39m \u001b[1mpyyaml\u001b[0m\u001b[2m==6.0.2\u001b[0m\n",
      " \u001b[32m+\u001b[39m \u001b[1mpyzmq\u001b[0m\u001b[2m==27.0.0\u001b[0m\n",
      " \u001b[32m+\u001b[39m \u001b[1mrequests\u001b[0m\u001b[2m==2.32.4\u001b[0m\n",
      " \u001b[32m+\u001b[39m \u001b[1ms3fs\u001b[0m\u001b[2m==2025.3.0\u001b[0m\n",
      " \u001b[32m+\u001b[39m \u001b[1msix\u001b[0m\u001b[2m==1.17.0\u001b[0m\n",
      " \u001b[32m+\u001b[39m \u001b[1mstack-data\u001b[0m\u001b[2m==0.6.3\u001b[0m\n",
      " \u001b[32m+\u001b[39m \u001b[1mtornado\u001b[0m\u001b[2m==6.5.1\u001b[0m\n",
      " \u001b[32m+\u001b[39m \u001b[1mtqdm\u001b[0m\u001b[2m==4.67.1\u001b[0m\n",
      " \u001b[32m+\u001b[39m \u001b[1mtraitlets\u001b[0m\u001b[2m==5.14.3\u001b[0m\n",
      " \u001b[32m+\u001b[39m \u001b[1mtyping-extensions\u001b[0m\u001b[2m==4.14.0\u001b[0m\n",
      " \u001b[32m+\u001b[39m \u001b[1mtzdata\u001b[0m\u001b[2m==2025.2\u001b[0m\n",
      " \u001b[32m+\u001b[39m \u001b[1murllib3\u001b[0m\u001b[2m==2.5.0\u001b[0m\n",
      " \u001b[32m+\u001b[39m \u001b[1mwcwidth\u001b[0m\u001b[2m==0.2.13\u001b[0m\n",
      " \u001b[32m+\u001b[39m \u001b[1mwrapt\u001b[0m\u001b[2m==1.17.2\u001b[0m\n",
      " \u001b[32m+\u001b[39m \u001b[1mxxhash\u001b[0m\u001b[2m==3.5.0\u001b[0m\n",
      " \u001b[32m+\u001b[39m \u001b[1myarl\u001b[0m\u001b[2m==1.20.1\u001b[0m\n"
     ]
    }
   ],
   "source": [
    "! uv python install 3.10\n",
    "! uv venv\n",
    "! uv sync"
   ]
  },
  {
   "cell_type": "markdown",
   "id": "3c78c607",
   "metadata": {},
   "source": [
    "Copy the contents of `.env.example` into `.env` and open `.env` in your editor.\n",
    "\n",
    "If you are not using VS Code for this, you will need to open `.env` in your editor manually."
   ]
  },
  {
   "cell_type": "code",
   "execution_count": null,
   "id": "50d7f0ce",
   "metadata": {},
   "outputs": [],
   "source": [
    "! cp .env.example .env\n",
    "! code .env || echo \"open .env in your editor\""
   ]
  },
  {
   "cell_type": "markdown",
   "id": "86cc2f43",
   "metadata": {},
   "source": [
    "Put your access key in the `AWS_ACCESS_KEY_ID` field and put your secret key in the `AWS_SECRET_ACCESS_KEY` field.\n",
    "\n",
    "For example, if your access key is `tid_NotKbzPHpJuoX` and your secret access key is `tsec_r++Q9iocfdf7Th`:\n",
    "\n",
    "```patch\n",
    " ## Tigris configuration\n",
    "\n",
    " # Change these based on the access key you got from the web console\n",
    "-AWS_ACCESS_KEY_ID=tid_access_key_id\n",
    "-AWS_SECRET_ACCESS_KEY=tsec_secret_access_key\n",
    "+AWS_ACCESS_KEY_ID=tid_NotKbzPHpJuoX\n",
    "+AWS_SECRET_ACCESS_KEY=tsec_r++Q9iocfdf7Th\n",
    "```\n",
    "\n",
    "Then load the `.env` file into your notebook's environment:"
   ]
  },
  {
   "cell_type": "code",
   "execution_count": null,
   "id": "7e1161d6",
   "metadata": {},
   "outputs": [
    {
     "data": {
      "text/plain": [
       "True"
      ]
     },
     "execution_count": 2,
     "metadata": {},
     "output_type": "execute_result"
    }
   ],
   "source": [
    "from dotenv import load_dotenv\n",
    "\n",
    "\n",
    "load_dotenv()"
   ]
  },
  {
   "cell_type": "markdown",
   "id": "0fc0cf9e",
   "metadata": {},
   "source": [
    "Then make sure you got everything:"
   ]
  },
  {
   "cell_type": "code",
   "execution_count": 3,
   "id": "f85de99b",
   "metadata": {},
   "outputs": [],
   "source": [
    "import os\n",
    "\n",
    "dotenv_errs = []\n",
    "for key in [\n",
    "    \"AWS_ACCESS_KEY_ID\",\n",
    "    \"AWS_SECRET_ACCESS_KEY\",\n",
    "    \"AWS_ENDPOINT_URL_S3\",\n",
    "    \"AWS_ENDPOINT_URL_IAM\",\n",
    "    \"AWS_REGION\",\n",
    "]:\n",
    "    assert os.getenv(key) is not None, f\"Environment variable {key} is not defined, please define it in .env\""
   ]
  },
  {
   "cell_type": "markdown",
   "id": "8720c0e7",
   "metadata": {},
   "source": [
    "Then set up the storage options for the datasets library:"
   ]
  },
  {
   "cell_type": "code",
   "execution_count": 4,
   "id": "67901147",
   "metadata": {},
   "outputs": [],
   "source": [
    "storage_options = {\n",
    "    \"key\": os.getenv(\"AWS_ACCESS_KEY_ID\"),\n",
    "    \"secret\": os.getenv(\"AWS_SECRET_ACCESS_KEY\"),\n",
    "    \"endpoint_url\": os.getenv(\"AWS_ENDPOINT_URL_S3\"),\n",
    "}"
   ]
  },
  {
   "cell_type": "markdown",
   "id": "1086238d",
   "metadata": {},
   "source": [
    "Make sure you have permissions to write files to your bucket:"
   ]
  },
  {
   "cell_type": "code",
   "execution_count": 5,
   "id": "c189e3a6",
   "metadata": {},
   "outputs": [
    {
     "data": {
      "text/plain": [
       "[]"
      ]
     },
     "execution_count": 5,
     "metadata": {},
     "output_type": "execute_result"
    }
   ],
   "source": [
    "import s3fs\n",
    "\n",
    "\n",
    "# Change me!\n",
    "bucket_name = \"xe-datasets-demo\"\n",
    "\n",
    "\n",
    "fs = s3fs.S3FileSystem(**storage_options)\n",
    "fs.write_text(f\"/{bucket_name}/test.txt\", \"this is a test\")\n",
    "fs.rm(f\"/{bucket_name}/test.txt\")"
   ]
  },
  {
   "cell_type": "markdown",
   "id": "0e171e6a",
   "metadata": {},
   "source": [
    "Load a dataset such as [mlabonne/FineTome-100k](http://hf.co/datasets/mlabonne/FineTome-100k):"
   ]
  },
  {
   "cell_type": "code",
   "execution_count": 6,
   "id": "8b768996",
   "metadata": {},
   "outputs": [
    {
     "name": "stderr",
     "output_type": "stream",
     "text": [
      "/workspaces/huggingface-datasets-with-tigris/.venv/lib/python3.10/site-packages/tqdm/auto.py:21: TqdmWarning: IProgress not found. Please update jupyter and ipywidgets. See https://ipywidgets.readthedocs.io/en/stable/user_install.html\n",
      "  from .autonotebook import tqdm as notebook_tqdm\n"
     ]
    },
    {
     "data": {
      "text/plain": [
       "Dataset({\n",
       "    features: ['conversations', 'source', 'score'],\n",
       "    num_rows: 100000\n",
       "})"
      ]
     },
     "metadata": {},
     "output_type": "display_data"
    }
   ],
   "source": [
    "from datasets import load_dataset\n",
    "from IPython.display import display\n",
    "\n",
    "\n",
    "dataset_name = \"mlabonne/FineTome-100k\"\n",
    "\n",
    "\n",
    "dataset = load_dataset(dataset_name, split=\"train\")\n",
    "display(dataset)"
   ]
  },
  {
   "cell_type": "markdown",
   "id": "21db6df0",
   "metadata": {},
   "source": [
    "Then copy it to your bucket:"
   ]
  },
  {
   "cell_type": "code",
   "execution_count": 7,
   "id": "8555609c",
   "metadata": {},
   "outputs": [
    {
     "name": "stderr",
     "output_type": "stream",
     "text": [
      "Saving the dataset (1/1 shards): 100%|██████████| 100000/100000 [00:09<00:00, 10232.99 examples/s]\n"
     ]
    }
   ],
   "source": [
    "dataset.save_to_disk(\n",
    "    f\"s3://{bucket_name}/datasets/{dataset_name}\",\n",
    "    storage_options=storage_options,\n",
    ")"
   ]
  },
  {
   "cell_type": "markdown",
   "id": "afaf8519",
   "metadata": {},
   "source": [
    "Then you can import it from Tigris in another workflow:"
   ]
  },
  {
   "cell_type": "code",
   "execution_count": null,
   "id": "748971a8",
   "metadata": {},
   "outputs": [
    {
     "name": "stderr",
     "output_type": "stream",
     "text": [
      "Filter: 100%|██████████| 100000/100000 [00:01<00:00, 81854.37 examples/s]\n"
     ]
    },
    {
     "data": {
      "text/plain": [
       "Dataset({\n",
       "    features: ['conversations', 'source', 'score'],\n",
       "    num_rows: 98035\n",
       "})"
      ]
     },
     "metadata": {},
     "output_type": "display_data"
    }
   ],
   "source": [
    "from datasets import load_from_disk\n",
    "\n",
    "\n",
    "dataset = load_from_disk(f\"s3://{bucket_name}/datasets/{dataset_name}\", storage_options=storage_options)\n",
    "\n",
    "\n",
    "def remove_blue(row):\n",
    "    \"\"\"\n",
    "    You can do any filtering or transformation here. This example transformation\n",
    "    removes any conversations that mention the color \"blue\" so you can understand\n",
    "    how to do advanced filtering or processing.\n",
    "    \"\"\"\n",
    "    assert row['conversations'] is not None\n",
    "    for conv in row['conversations']:\n",
    "        assert conv['value'] is not None\n",
    "        if \"blue\" in conv['value']:\n",
    "            return False # remove the row\n",
    "\n",
    "    return True # leave the row in\n",
    "\n",
    "\n",
    "filtered_ds = dataset.filter(remove_blue)\n",
    "display(filtered_ds)"
   ]
  }
 ],
 "metadata": {
  "kernelspec": {
   "display_name": "huggingface-datasets-with-tigris",
   "language": "python",
   "name": "python3"
  },
  "language_info": {
   "codemirror_mode": {
    "name": "ipython",
    "version": 3
   },
   "file_extension": ".py",
   "mimetype": "text/x-python",
   "name": "python",
   "nbconvert_exporter": "python",
   "pygments_lexer": "ipython3",
   "version": "3.10.18"
  }
 },
 "nbformat": 4,
 "nbformat_minor": 5
}
